{
 "cells": [
  {
   "cell_type": "code",
   "execution_count": 7,
   "metadata": {
    "ExecuteTime": {
     "end_time": "2020-04-07T03:18:23.661668Z",
     "start_time": "2020-04-07T03:18:23.658787Z"
    }
   },
   "outputs": [],
   "source": [
    "import heapq"
   ]
  },
  {
   "cell_type": "code",
   "execution_count": 2,
   "metadata": {
    "ExecuteTime": {
     "end_time": "2020-04-07T03:16:47.573075Z",
     "start_time": "2020-04-07T03:16:47.569236Z"
    }
   },
   "outputs": [
    {
     "name": "stdout",
     "output_type": "stream",
     "text": [
      "0\n",
      "1\n",
      "2\n"
     ]
    }
   ],
   "source": [
    "for i in range(3):\n",
    "    print (i)"
   ]
  },
  {
   "cell_type": "code",
   "execution_count": 3,
   "metadata": {
    "ExecuteTime": {
     "end_time": "2020-04-07T03:16:54.889503Z",
     "start_time": "2020-04-07T03:16:54.885524Z"
    }
   },
   "outputs": [
    {
     "name": "stdout",
     "output_type": "stream",
     "text": [
      "0\n"
     ]
    }
   ],
   "source": [
    "for i in range(1):\n",
    "    print (i)"
   ]
  },
  {
   "cell_type": "code",
   "execution_count": 12,
   "metadata": {
    "ExecuteTime": {
     "end_time": "2020-04-07T03:19:08.352327Z",
     "start_time": "2020-04-07T03:19:08.347017Z"
    }
   },
   "outputs": [],
   "source": [
    "class Solution(object):\n",
    "    def nthUglyNumber(self, n):\n",
    "        \"\"\"\n",
    "        :type n: int\n",
    "        :rtype: int\n",
    "        \"\"\"\n",
    "        heap = [1]\n",
    "        heapq.heapify(heap)\n",
    "        sol = []\n",
    "   \n",
    "        for i in range(n):\n",
    "        \tcurrent_min = heapq.heappop(heap)\n",
    "        \tsol.append(current_min)\n",
    "        \theapq.heappush(heap, 2 * current_min)\n",
    "        \theapq.heappush(heap, 3 * current_min)\n",
    "        \theapq.heappush(heap, 5 * current_min)\n",
    "        print(sol)\n",
    "        return current_min"
   ]
  },
  {
   "cell_type": "code",
   "execution_count": 13,
   "metadata": {
    "ExecuteTime": {
     "end_time": "2020-04-07T03:19:09.032669Z",
     "start_time": "2020-04-07T03:19:09.029622Z"
    }
   },
   "outputs": [],
   "source": [
    "a = Solution()"
   ]
  },
  {
   "cell_type": "code",
   "execution_count": 14,
   "metadata": {
    "ExecuteTime": {
     "end_time": "2020-04-07T03:19:09.396093Z",
     "start_time": "2020-04-07T03:19:09.390234Z"
    }
   },
   "outputs": [
    {
     "name": "stdout",
     "output_type": "stream",
     "text": [
      "[1, 2, 3, 4, 5, 6, 6, 8, 9, 10]\n"
     ]
    },
    {
     "data": {
      "text/plain": [
       "10"
      ]
     },
     "execution_count": 14,
     "metadata": {},
     "output_type": "execute_result"
    }
   ],
   "source": [
    "a.nthUglyNumber(10)"
   ]
  },
  {
   "cell_type": "code",
   "execution_count": 16,
   "metadata": {
    "ExecuteTime": {
     "end_time": "2020-04-07T03:21:05.757659Z",
     "start_time": "2020-04-07T03:21:05.749197Z"
    }
   },
   "outputs": [
    {
     "ename": "TypeError",
     "evalue": "'int' object is not iterable",
     "output_type": "error",
     "traceback": [
      "\u001b[0;31m---------------------------------------------------------------------------\u001b[0m",
      "\u001b[0;31mTypeError\u001b[0m                                 Traceback (most recent call last)",
      "\u001b[0;32m<ipython-input-16-6ae8637c5667>\u001b[0m in \u001b[0;36m<module>\u001b[0;34m()\u001b[0m\n\u001b[0;32m----> 1\u001b[0;31m \u001b[0ma\u001b[0m \u001b[0;34m=\u001b[0m \u001b[0mset\u001b[0m\u001b[0;34m(\u001b[0m\u001b[0;34m(\u001b[0m\u001b[0;36m10\u001b[0m\u001b[0;34m)\u001b[0m\u001b[0;34m)\u001b[0m\u001b[0;34m\u001b[0m\u001b[0m\n\u001b[0m",
      "\u001b[0;31mTypeError\u001b[0m: 'int' object is not iterable"
     ]
    }
   ],
   "source": [
    "a = set((10))"
   ]
  },
  {
   "cell_type": "code",
   "execution_count": 20,
   "metadata": {
    "ExecuteTime": {
     "end_time": "2020-04-07T04:21:32.358557Z",
     "start_time": "2020-04-07T04:21:32.356137Z"
    }
   },
   "outputs": [],
   "source": [
    "a = [1,2,3]"
   ]
  },
  {
   "cell_type": "code",
   "execution_count": 21,
   "metadata": {
    "ExecuteTime": {
     "end_time": "2020-04-07T04:21:36.237115Z",
     "start_time": "2020-04-07T04:21:36.232683Z"
    }
   },
   "outputs": [
    {
     "data": {
      "text/plain": [
       "3"
      ]
     },
     "execution_count": 21,
     "metadata": {},
     "output_type": "execute_result"
    }
   ],
   "source": [
    "a.pop(-1)"
   ]
  },
  {
   "cell_type": "code",
   "execution_count": 22,
   "metadata": {
    "ExecuteTime": {
     "end_time": "2020-04-07T04:21:38.722169Z",
     "start_time": "2020-04-07T04:21:38.717654Z"
    }
   },
   "outputs": [
    {
     "data": {
      "text/plain": [
       "[1, 2]"
      ]
     },
     "execution_count": 22,
     "metadata": {},
     "output_type": "execute_result"
    }
   ],
   "source": [
    "a\n"
   ]
  },
  {
   "cell_type": "code",
   "execution_count": 25,
   "metadata": {
    "ExecuteTime": {
     "end_time": "2020-04-07T05:42:42.203851Z",
     "start_time": "2020-04-07T05:42:42.200957Z"
    }
   },
   "outputs": [],
   "source": [
    "a = [(1,2,),(3,4),(5,6)]"
   ]
  },
  {
   "cell_type": "code",
   "execution_count": 26,
   "metadata": {
    "ExecuteTime": {
     "end_time": "2020-04-07T05:42:45.095311Z",
     "start_time": "2020-04-07T05:42:45.090165Z"
    }
   },
   "outputs": [
    {
     "data": {
      "text/plain": [
       "(5, 6)"
      ]
     },
     "execution_count": 26,
     "metadata": {},
     "output_type": "execute_result"
    }
   ],
   "source": [
    "a.pop()"
   ]
  },
  {
   "cell_type": "code",
   "execution_count": 27,
   "metadata": {
    "ExecuteTime": {
     "end_time": "2020-04-07T05:42:46.531394Z",
     "start_time": "2020-04-07T05:42:46.526854Z"
    }
   },
   "outputs": [
    {
     "data": {
      "text/plain": [
       "[(1, 2), (3, 4)]"
      ]
     },
     "execution_count": 27,
     "metadata": {},
     "output_type": "execute_result"
    }
   ],
   "source": [
    "a"
   ]
  },
  {
   "cell_type": "code",
   "execution_count": 28,
   "metadata": {
    "ExecuteTime": {
     "end_time": "2020-04-08T03:43:47.278455Z",
     "start_time": "2020-04-08T03:43:47.241540Z"
    }
   },
   "outputs": [],
   "source": [
    "class Solution(object):\n",
    "    def mostCommonWord(self, paragraph, banned):\n",
    "        \"\"\"\n",
    "        :type paragraph: str\n",
    "        :type banned: List[str]\n",
    "        :rtype: str\n",
    "        \"\"\"\n",
    "        paragraph_lower = paragraph.lower()\n",
    "        word_list = paragraph_lower.split(\" \")\n",
    "        count = collections.Counter(word_list)\n",
    "        sorted_count = sorted(count.items(), key=lambda i : i[1], reverse=True)\n",
    "        for word in sorted_count:\n",
    "        \tif not word[0] in banned:\n",
    "        \t\treturn word[0]"
   ]
  },
  {
   "cell_type": "code",
   "execution_count": 33,
   "metadata": {
    "ExecuteTime": {
     "end_time": "2020-04-08T03:44:38.999213Z",
     "start_time": "2020-04-08T03:44:38.993473Z"
    }
   },
   "outputs": [
    {
     "data": {
      "text/plain": [
       "['hit']"
      ]
     },
     "execution_count": 33,
     "metadata": {},
     "output_type": "execute_result"
    }
   ],
   "source": [
    "import collections\n",
    "\"Bob hit a ball, the hit BALL flew far after it was hit.\"\n",
    "[\"hit\"]"
   ]
  },
  {
   "cell_type": "code",
   "execution_count": 30,
   "metadata": {
    "ExecuteTime": {
     "end_time": "2020-04-08T03:44:07.854232Z",
     "start_time": "2020-04-08T03:44:07.851162Z"
    }
   },
   "outputs": [],
   "source": [
    "a = Solution()"
   ]
  },
  {
   "cell_type": "code",
   "execution_count": 34,
   "metadata": {
    "ExecuteTime": {
     "end_time": "2020-04-08T03:44:40.475609Z",
     "start_time": "2020-04-08T03:44:40.436961Z"
    }
   },
   "outputs": [
    {
     "data": {
      "text/plain": [
       "'bob'"
      ]
     },
     "execution_count": 34,
     "metadata": {},
     "output_type": "execute_result"
    }
   ],
   "source": [
    "a.mostCommonWord(\"\",['hit'])"
   ]
  },
  {
   "cell_type": "code",
   "execution_count": 48,
   "metadata": {
    "ExecuteTime": {
     "end_time": "2020-04-08T03:49:45.798500Z",
     "start_time": "2020-04-08T03:49:45.795611Z"
    }
   },
   "outputs": [],
   "source": [
    "paragraph = \"Bob hit a ball, the hit BALL flew far after it    was hit.\"\n",
    "paragraph_lower = paragraph.lower()"
   ]
  },
  {
   "cell_type": "code",
   "execution_count": 51,
   "metadata": {
    "ExecuteTime": {
     "end_time": "2020-04-08T03:50:11.411719Z",
     "start_time": "2020-04-08T03:50:11.408436Z"
    }
   },
   "outputs": [],
   "source": [
    "word_list = paragraph_lower.split()"
   ]
  },
  {
   "cell_type": "code",
   "execution_count": 52,
   "metadata": {
    "ExecuteTime": {
     "end_time": "2020-04-08T03:50:12.250162Z",
     "start_time": "2020-04-08T03:50:12.241082Z"
    }
   },
   "outputs": [
    {
     "data": {
      "text/plain": [
       "['bob',\n",
       " 'hit',\n",
       " 'a',\n",
       " 'ball,',\n",
       " 'the',\n",
       " 'hit',\n",
       " 'ball',\n",
       " 'flew',\n",
       " 'far',\n",
       " 'after',\n",
       " 'it',\n",
       " 'was',\n",
       " 'hit.']"
      ]
     },
     "execution_count": 52,
     "metadata": {},
     "output_type": "execute_result"
    }
   ],
   "source": [
    "word_list"
   ]
  },
  {
   "cell_type": "code",
   "execution_count": 38,
   "metadata": {
    "ExecuteTime": {
     "end_time": "2020-04-08T03:45:33.108833Z",
     "start_time": "2020-04-08T03:45:33.105986Z"
    }
   },
   "outputs": [],
   "source": [
    "count = collections.Counter(word_list)"
   ]
  },
  {
   "cell_type": "code",
   "execution_count": 39,
   "metadata": {
    "ExecuteTime": {
     "end_time": "2020-04-08T03:45:34.815486Z",
     "start_time": "2020-04-08T03:45:34.810466Z"
    }
   },
   "outputs": [
    {
     "data": {
      "text/plain": [
       "Counter({'bob': 1,\n",
       "         'hit': 2,\n",
       "         'a': 1,\n",
       "         'ball,': 1,\n",
       "         'the': 1,\n",
       "         'ball': 1,\n",
       "         'flew': 1,\n",
       "         'far': 1,\n",
       "         'after': 1,\n",
       "         'it': 1,\n",
       "         'was': 1,\n",
       "         'hit.': 1})"
      ]
     },
     "execution_count": 39,
     "metadata": {},
     "output_type": "execute_result"
    }
   ],
   "source": [
    "count"
   ]
  },
  {
   "cell_type": "code",
   "execution_count": 53,
   "metadata": {
    "ExecuteTime": {
     "end_time": "2020-04-08T03:51:52.881731Z",
     "start_time": "2020-04-08T03:51:52.877405Z"
    }
   },
   "outputs": [
    {
     "data": {
      "text/plain": [
       "['a', '', 'b', '', 'c']"
      ]
     },
     "execution_count": 53,
     "metadata": {},
     "output_type": "execute_result"
    }
   ],
   "source": [
    "w = \"a  b  c\"\n",
    "w.split(\" \")"
   ]
  },
  {
   "cell_type": "code",
   "execution_count": 54,
   "metadata": {
    "ExecuteTime": {
     "end_time": "2020-04-08T03:52:09.592724Z",
     "start_time": "2020-04-08T03:52:09.587954Z"
    }
   },
   "outputs": [
    {
     "data": {
      "text/plain": [
       "['', '  b  c']"
      ]
     },
     "execution_count": 54,
     "metadata": {},
     "output_type": "execute_result"
    }
   ],
   "source": [
    "w.split(\"a\")"
   ]
  },
  {
   "cell_type": "code",
   "execution_count": 56,
   "metadata": {
    "ExecuteTime": {
     "end_time": "2020-04-08T03:56:42.758134Z",
     "start_time": "2020-04-08T03:56:42.754466Z"
    }
   },
   "outputs": [
    {
     "data": {
      "text/plain": [
       "['a', 'b', 'c']"
      ]
     },
     "execution_count": 56,
     "metadata": {},
     "output_type": "execute_result"
    }
   ],
   "source": [
    "w.split(\"  \")"
   ]
  },
  {
   "cell_type": "code",
   "execution_count": null,
   "metadata": {},
   "outputs": [],
   "source": []
  },
  {
   "cell_type": "code",
   "execution_count": null,
   "metadata": {},
   "outputs": [],
   "source": []
  },
  {
   "cell_type": "code",
   "execution_count": 1,
   "metadata": {
    "ExecuteTime": {
     "end_time": "2020-04-09T03:41:52.106866Z",
     "start_time": "2020-04-09T03:41:52.102815Z"
    }
   },
   "outputs": [],
   "source": [
    "a = [1,2,3]+[4,5,6]"
   ]
  },
  {
   "cell_type": "code",
   "execution_count": 2,
   "metadata": {
    "ExecuteTime": {
     "end_time": "2020-04-09T03:41:52.982247Z",
     "start_time": "2020-04-09T03:41:52.968872Z"
    }
   },
   "outputs": [
    {
     "data": {
      "text/plain": [
       "[1, 2, 3, 4, 5, 6]"
      ]
     },
     "execution_count": 2,
     "metadata": {},
     "output_type": "execute_result"
    }
   ],
   "source": [
    "a"
   ]
  },
  {
   "cell_type": "code",
   "execution_count": 3,
   "metadata": {
    "ExecuteTime": {
     "end_time": "2020-04-09T03:41:58.676425Z",
     "start_time": "2020-04-09T03:41:58.670148Z"
    }
   },
   "outputs": [
    {
     "data": {
      "text/plain": [
       "[1, 2, 3, 4, 5, 6]"
      ]
     },
     "execution_count": 3,
     "metadata": {},
     "output_type": "execute_result"
    }
   ],
   "source": [
    "[1,2,3]+[4,5,6]"
   ]
  },
  {
   "cell_type": "code",
   "execution_count": null,
   "metadata": {},
   "outputs": [],
   "source": []
  },
  {
   "cell_type": "code",
   "execution_count": 8,
   "metadata": {
    "ExecuteTime": {
     "end_time": "2020-04-09T04:39:11.822350Z",
     "start_time": "2020-04-09T04:39:11.817554Z"
    }
   },
   "outputs": [],
   "source": [
    "matrix1 = [\n",
    "  [1,   3,  5,  7],\n",
    "  [10, 11, 16, 20],\n",
    "  [23, 30, 34, 50]\n",
    "]\n",
    "target1 = 3\n",
    "\n",
    "\n",
    "matrix = [\n",
    "  [1,   3,  5,  7],\n",
    "  [10, 11, 16, 20],\n",
    "  [23, 30, 34, 50]\n",
    "]\n",
    "target2 = 13\n"
   ]
  },
  {
   "cell_type": "code",
   "execution_count": 21,
   "metadata": {
    "ExecuteTime": {
     "end_time": "2020-04-09T04:40:27.766863Z",
     "start_time": "2020-04-09T04:40:27.760502Z"
    }
   },
   "outputs": [],
   "source": [
    "class Solution(object):\n",
    "    def searchMatrix(self, matrix, target):\n",
    "        \"\"\"\n",
    "        :type matrix: List[List[int]]\n",
    "        :type target: int\n",
    "        :rtype: bool\n",
    "        \"\"\"\n",
    "        if not matrix:\n",
    "        \treturn False\n",
    "        nrow = len(matrix)\n",
    "        ncol = len(matrix[0])\n",
    "\n",
    "        # search for the first column\n",
    "        l = 0\n",
    "        r = nrow - 1\n",
    "        while l <= r:\n",
    "        \tmid = l + int((r-l)/2)\n",
    "        \tif matrix[mid][0] == target:\n",
    "        \t\treturn True \n",
    "        \telif matrix[mid][0] > target:\n",
    "        \t\tr = mid - 1\n",
    "        \telse:\n",
    "        \t\tl = mid + 1\n",
    "\n",
    "        # l = r, start search for columns\n",
    "        row_index = r\n",
    "\n",
    "        l = 0\n",
    "        r = ncol - 1\n",
    "        while l <= r:\n",
    "        \tmid = l + int((r-l)/2)\n",
    "        \tif matrix[row_index][mid] == target:\n",
    "        \t\treturn True \n",
    "        \telif matrix[row_index][mid] > target:\n",
    "        \t\tr = mid - 1\n",
    "        \telse:\n",
    "        \t\tl = mid + 1\n",
    "\n",
    "        return False "
   ]
  },
  {
   "cell_type": "code",
   "execution_count": 22,
   "metadata": {
    "ExecuteTime": {
     "end_time": "2020-04-09T04:40:29.241721Z",
     "start_time": "2020-04-09T04:40:29.238754Z"
    }
   },
   "outputs": [],
   "source": [
    "a = Solution()"
   ]
  },
  {
   "cell_type": "code",
   "execution_count": 25,
   "metadata": {
    "ExecuteTime": {
     "end_time": "2020-04-09T04:40:36.103856Z",
     "start_time": "2020-04-09T04:40:36.099414Z"
    }
   },
   "outputs": [
    {
     "data": {
      "text/plain": [
       "True"
      ]
     },
     "execution_count": 25,
     "metadata": {},
     "output_type": "execute_result"
    }
   ],
   "source": [
    "a.searchMatrix(matrix, 30)"
   ]
  },
  {
   "cell_type": "code",
   "execution_count": 27,
   "metadata": {
    "ExecuteTime": {
     "end_time": "2020-04-09T04:57:06.390910Z",
     "start_time": "2020-04-09T04:57:06.388270Z"
    }
   },
   "outputs": [],
   "source": [
    "a = \"abc\""
   ]
  },
  {
   "cell_type": "code",
   "execution_count": 28,
   "metadata": {
    "ExecuteTime": {
     "end_time": "2020-04-09T04:57:09.054015Z",
     "start_time": "2020-04-09T04:57:09.050262Z"
    }
   },
   "outputs": [
    {
     "data": {
      "text/plain": [
       "''"
      ]
     },
     "execution_count": 28,
     "metadata": {},
     "output_type": "execute_result"
    }
   ],
   "source": [
    "a[0:0]"
   ]
  },
  {
   "cell_type": "code",
   "execution_count": 31,
   "metadata": {
    "ExecuteTime": {
     "end_time": "2020-04-09T04:58:48.210822Z",
     "start_time": "2020-04-09T04:58:48.205750Z"
    }
   },
   "outputs": [
    {
     "data": {
      "text/plain": [
       "True"
      ]
     },
     "execution_count": 31,
     "metadata": {},
     "output_type": "execute_result"
    }
   ],
   "source": [
    "'a' in 'bssca'"
   ]
  },
  {
   "cell_type": "code",
   "execution_count": 35,
   "metadata": {
    "ExecuteTime": {
     "end_time": "2020-04-09T05:00:14.271885Z",
     "start_time": "2020-04-09T05:00:14.267772Z"
    }
   },
   "outputs": [
    {
     "data": {
      "text/plain": [
       "False"
      ]
     },
     "execution_count": 35,
     "metadata": {},
     "output_type": "execute_result"
    }
   ],
   "source": [
    "b = \"abc\"\n",
    "b.startswith('b')"
   ]
  },
  {
   "cell_type": "code",
   "execution_count": 39,
   "metadata": {
    "ExecuteTime": {
     "end_time": "2020-04-09T05:04:33.862559Z",
     "start_time": "2020-04-09T05:04:33.859422Z"
    }
   },
   "outputs": [],
   "source": [
    "a = []\n",
    "b = ['a','b','c']\n",
    "b = []"
   ]
  },
  {
   "cell_type": "code",
   "execution_count": 40,
   "metadata": {
    "ExecuteTime": {
     "end_time": "2020-04-09T05:04:34.036694Z",
     "start_time": "2020-04-09T05:04:34.033613Z"
    }
   },
   "outputs": [],
   "source": [
    "a.append(b[:2])"
   ]
  },
  {
   "cell_type": "code",
   "execution_count": 41,
   "metadata": {
    "ExecuteTime": {
     "end_time": "2020-04-09T05:04:34.837775Z",
     "start_time": "2020-04-09T05:04:34.833180Z"
    }
   },
   "outputs": [
    {
     "data": {
      "text/plain": [
       "[[]]"
      ]
     },
     "execution_count": 41,
     "metadata": {},
     "output_type": "execute_result"
    }
   ],
   "source": [
    "a"
   ]
  },
  {
   "cell_type": "code",
   "execution_count": 42,
   "metadata": {
    "ExecuteTime": {
     "end_time": "2020-04-09T05:04:49.695498Z",
     "start_time": "2020-04-09T05:04:49.690241Z"
    }
   },
   "outputs": [],
   "source": [
    "class Solution(object):\n",
    "    def suggestedProducts(self, products, searchWord):\n",
    "        \"\"\"\n",
    "        :type products: List[str]\n",
    "        :type searchWord: str\n",
    "        :rtype: List[List[str]]\n",
    "        \"\"\"\n",
    "        sol = []\n",
    "        candidates = products \n",
    "        for i in range(len(searchWord)):\n",
    "        \tcur_res = []\n",
    "        \tcur_string = searchWord[:(i+1)]\n",
    "        \tfor candidate in candidates:\n",
    "        \t\tif candidate.startswith(cur_string):\n",
    "        \t\t\tcur_res.append(candidate)\n",
    "        \tcandidates = cur_res\n",
    "        \tsol.append(candidates[:3])\n",
    "        return sol "
   ]
  },
  {
   "cell_type": "code",
   "execution_count": 43,
   "metadata": {
    "ExecuteTime": {
     "end_time": "2020-04-09T05:04:53.922013Z",
     "start_time": "2020-04-09T05:04:53.918984Z"
    }
   },
   "outputs": [],
   "source": [
    "a = Solution()"
   ]
  },
  {
   "cell_type": "code",
   "execution_count": 44,
   "metadata": {
    "ExecuteTime": {
     "end_time": "2020-04-09T05:05:30.507429Z",
     "start_time": "2020-04-09T05:05:30.503884Z"
    }
   },
   "outputs": [],
   "source": [
    "products = [\"mobile\",\"mouse\",\"moneypot\",\"monitor\",\"mousepad\"]\n",
    "searchWord = \"mouse\""
   ]
  },
  {
   "cell_type": "code",
   "execution_count": 45,
   "metadata": {
    "ExecuteTime": {
     "end_time": "2020-04-09T05:05:36.220306Z",
     "start_time": "2020-04-09T05:05:36.215639Z"
    }
   },
   "outputs": [
    {
     "data": {
      "text/plain": [
       "[['mobile', 'mouse', 'moneypot'],\n",
       " ['mobile', 'mouse', 'moneypot'],\n",
       " ['mouse', 'mousepad'],\n",
       " ['mouse', 'mousepad'],\n",
       " ['mouse', 'mousepad']]"
      ]
     },
     "execution_count": 45,
     "metadata": {},
     "output_type": "execute_result"
    }
   ],
   "source": [
    "a.suggestedProducts(products, searchWord)"
   ]
  },
  {
   "cell_type": "code",
   "execution_count": 47,
   "metadata": {
    "ExecuteTime": {
     "end_time": "2020-04-09T05:06:02.984731Z",
     "start_time": "2020-04-09T05:06:02.981799Z"
    }
   },
   "outputs": [],
   "source": [
    "products = [\"havana\"]\n",
    "searchWord = \"havana\""
   ]
  },
  {
   "cell_type": "code",
   "execution_count": 48,
   "metadata": {
    "ExecuteTime": {
     "end_time": "2020-04-09T05:06:06.502290Z",
     "start_time": "2020-04-09T05:06:06.497589Z"
    }
   },
   "outputs": [
    {
     "data": {
      "text/plain": [
       "[['havana'], ['havana'], ['havana'], ['havana'], ['havana'], ['havana']]"
      ]
     },
     "execution_count": 48,
     "metadata": {},
     "output_type": "execute_result"
    }
   ],
   "source": [
    "a.suggestedProducts(products, searchWord)"
   ]
  },
  {
   "cell_type": "code",
   "execution_count": 49,
   "metadata": {
    "ExecuteTime": {
     "end_time": "2020-04-09T05:06:24.241878Z",
     "start_time": "2020-04-09T05:06:24.239009Z"
    }
   },
   "outputs": [],
   "source": [
    "products = [\"havana\"]\n",
    "searchWord = \"tatiana\""
   ]
  },
  {
   "cell_type": "code",
   "execution_count": 50,
   "metadata": {
    "ExecuteTime": {
     "end_time": "2020-04-09T05:06:31.781906Z",
     "start_time": "2020-04-09T05:06:31.776517Z"
    }
   },
   "outputs": [
    {
     "data": {
      "text/plain": [
       "[[], [], [], [], [], [], []]"
      ]
     },
     "execution_count": 50,
     "metadata": {},
     "output_type": "execute_result"
    }
   ],
   "source": [
    "a.suggestedProducts(products, searchWord)"
   ]
  },
  {
   "cell_type": "code",
   "execution_count": 52,
   "metadata": {
    "ExecuteTime": {
     "end_time": "2020-04-09T06:08:16.937436Z",
     "start_time": "2020-04-09T06:08:16.927286Z"
    }
   },
   "outputs": [],
   "source": [
    "class Solution(object):\n",
    "    def searchMatrix(self, matrix, target):\n",
    "        \"\"\"\n",
    "        :type matrix: List[List[int]]\n",
    "        :type target: int\n",
    "        :rtype: bool\n",
    "        \"\"\"\n",
    "        if not matrix:\n",
    "        \treturn False\n",
    "\n",
    "        nrow = len(matrix)\n",
    "        ncol = len(matrix[0])\n",
    "\n",
    "        if ((nrow == 0) or (ncol == 0)):\n",
    "        \treturn False\n",
    "\n",
    "        i, j = 0, ncol - 1\n",
    "        while ((i < nrow) and (j >= 0)):\n",
    "        \tprint (matrix[i][j])\n",
    "        \tif matrix[i][j] == target:\n",
    "        \t\treturn True \n",
    "        \telif matrix[i][j] > target:\n",
    "        \t\tj = j - 1\n",
    "        \telse:\n",
    "        \t\ti = i + 1\n",
    "        return False "
   ]
  },
  {
   "cell_type": "code",
   "execution_count": 53,
   "metadata": {
    "ExecuteTime": {
     "end_time": "2020-04-09T06:08:32.977042Z",
     "start_time": "2020-04-09T06:08:32.972639Z"
    }
   },
   "outputs": [],
   "source": [
    "matrix = [[1,4,7,11,15],[2,5,8,12,19],[3,6,9,16,22],[10,13,14,17,24],[18,21,23,26,30]]"
   ]
  },
  {
   "cell_type": "code",
   "execution_count": 54,
   "metadata": {
    "ExecuteTime": {
     "end_time": "2020-04-09T06:08:35.477514Z",
     "start_time": "2020-04-09T06:08:35.474403Z"
    }
   },
   "outputs": [],
   "source": [
    "target = 5"
   ]
  },
  {
   "cell_type": "code",
   "execution_count": 55,
   "metadata": {
    "ExecuteTime": {
     "end_time": "2020-04-09T06:08:45.903214Z",
     "start_time": "2020-04-09T06:08:45.895250Z"
    }
   },
   "outputs": [
    {
     "name": "stdout",
     "output_type": "stream",
     "text": [
      "15\n",
      "11\n",
      "7\n",
      "4\n",
      "5\n"
     ]
    },
    {
     "data": {
      "text/plain": [
       "True"
      ]
     },
     "execution_count": 55,
     "metadata": {},
     "output_type": "execute_result"
    }
   ],
   "source": [
    "a = Solution()\n",
    "a.searchMatrix(matrix, 5)"
   ]
  },
  {
   "cell_type": "code",
   "execution_count": 62,
   "metadata": {
    "ExecuteTime": {
     "end_time": "2020-04-09T20:08:13.706516Z",
     "start_time": "2020-04-09T20:08:13.700098Z"
    }
   },
   "outputs": [],
   "source": [
    "class Solution(object):\n",
    "\tdef copyRandomList(self, head):\n",
    "\t\t\"\"\"\n",
    "\t\t:type head: Node\n",
    "\t\t:rtype: Node\n",
    "\t\t\"\"\"\n",
    "\t\tif not head:\n",
    "\t\t\treturn None\n",
    "\n",
    "\t\tnode_mapping = dict()\n",
    "\n",
    "\t\thead_cp1 = head \n",
    "\t\thead_cp2 = head\n",
    "\n",
    "\t\tsol = Node(0)\n",
    "\t\tsol_cp1 = sol\n",
    "\n",
    "\t\t# create the hash map, add the value of the node to the deep copy\n",
    "\t\twhile not head_cp1:\n",
    "\t\t\tcp_node = Node(head_cp1.val)\n",
    "\t\t\tsol_cp1.next = cp_node\n",
    "\t\t\tnode_mapping[head_cp1] = cp_node\n",
    "\t\t\thead_cp1 = head_cp1.next\n",
    "\t\t\tsol_cp1 = sol_cp1.next\n",
    "\n",
    "\t\t# copy pointers \n",
    "\t\twhile not head_cp2:\n",
    "\t\t\tcp_node = node_mapping[head_cp2]\n",
    "\t\t\tcp_node.random = head_cp2.random \n",
    "\t\t\tcp_node.next = head_cp2.next\n",
    "\t\t\thead_cp2 = head_cp2.next \n",
    "\n",
    "\t\treturn sol.next  "
   ]
  },
  {
   "cell_type": "code",
   "execution_count": 63,
   "metadata": {
    "ExecuteTime": {
     "end_time": "2020-04-09T20:08:14.000587Z",
     "start_time": "2020-04-09T20:08:13.997905Z"
    }
   },
   "outputs": [],
   "source": [
    "a = Solution()"
   ]
  },
  {
   "cell_type": "code",
   "execution_count": 64,
   "metadata": {
    "ExecuteTime": {
     "end_time": "2020-04-09T20:08:14.286419Z",
     "start_time": "2020-04-09T20:08:14.275203Z"
    }
   },
   "outputs": [
    {
     "ename": "NameError",
     "evalue": "name 'null' is not defined",
     "output_type": "error",
     "traceback": [
      "\u001b[0;31m---------------------------------------------------------------------------\u001b[0m",
      "\u001b[0;31mNameError\u001b[0m                                 Traceback (most recent call last)",
      "\u001b[0;32m<ipython-input-64-d20681ef538f>\u001b[0m in \u001b[0;36m<module>\u001b[0;34m()\u001b[0m\n\u001b[0;32m----> 1\u001b[0;31m \u001b[0mhead\u001b[0m \u001b[0;34m=\u001b[0m \u001b[0;34m[\u001b[0m\u001b[0;34m[\u001b[0m\u001b[0;36m3\u001b[0m\u001b[0;34m,\u001b[0m\u001b[0mnull\u001b[0m\u001b[0;34m]\u001b[0m\u001b[0;34m,\u001b[0m\u001b[0;34m[\u001b[0m\u001b[0;36m3\u001b[0m\u001b[0;34m,\u001b[0m\u001b[0;36m0\u001b[0m\u001b[0;34m]\u001b[0m\u001b[0;34m,\u001b[0m\u001b[0;34m[\u001b[0m\u001b[0;36m3\u001b[0m\u001b[0;34m,\u001b[0m\u001b[0mnull\u001b[0m\u001b[0;34m]\u001b[0m\u001b[0;34m]\u001b[0m\u001b[0;34m\u001b[0m\u001b[0m\n\u001b[0m\u001b[1;32m      2\u001b[0m \u001b[0ma\u001b[0m\u001b[0;34m.\u001b[0m\u001b[0mcopyRandomList\u001b[0m\u001b[0;34m(\u001b[0m\u001b[0mhead\u001b[0m\u001b[0;34m)\u001b[0m\u001b[0;34m\u001b[0m\u001b[0m\n",
      "\u001b[0;31mNameError\u001b[0m: name 'null' is not defined"
     ]
    }
   ],
   "source": [
    "head = [[3,null],[3,0],[3,null]]\n",
    "a.copyRandomList(head)"
   ]
  },
  {
   "cell_type": "code",
   "execution_count": null,
   "metadata": {
    "ExecuteTime": {
     "start_time": "2020-04-14T02:56:36.607Z"
    }
   },
   "outputs": [],
   "source": [
    "\"a\"+\"ss\""
   ]
  },
  {
   "cell_type": "code",
   "execution_count": null,
   "metadata": {},
   "outputs": [],
   "source": []
  }
 ],
 "metadata": {
  "kernelspec": {
   "display_name": "Python 3",
   "language": "python",
   "name": "python3"
  },
  "language_info": {
   "codemirror_mode": {
    "name": "ipython",
    "version": 3
   },
   "file_extension": ".py",
   "mimetype": "text/x-python",
   "name": "python",
   "nbconvert_exporter": "python",
   "pygments_lexer": "ipython3",
   "version": "3.6.6"
  },
  "toc": {
   "base_numbering": 1,
   "nav_menu": {},
   "number_sections": true,
   "sideBar": true,
   "skip_h1_title": false,
   "title_cell": "Table of Contents",
   "title_sidebar": "Contents",
   "toc_cell": false,
   "toc_position": {},
   "toc_section_display": true,
   "toc_window_display": false
  },
  "varInspector": {
   "cols": {
    "lenName": 16,
    "lenType": 16,
    "lenVar": 40
   },
   "kernels_config": {
    "python": {
     "delete_cmd_postfix": "",
     "delete_cmd_prefix": "del ",
     "library": "var_list.py",
     "varRefreshCmd": "print(var_dic_list())"
    },
    "r": {
     "delete_cmd_postfix": ") ",
     "delete_cmd_prefix": "rm(",
     "library": "var_list.r",
     "varRefreshCmd": "cat(var_dic_list()) "
    }
   },
   "types_to_exclude": [
    "module",
    "function",
    "builtin_function_or_method",
    "instance",
    "_Feature"
   ],
   "window_display": false
  }
 },
 "nbformat": 4,
 "nbformat_minor": 2
}
