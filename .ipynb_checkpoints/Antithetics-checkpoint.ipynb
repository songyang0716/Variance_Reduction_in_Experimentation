{
 "cells": [
  {
   "cell_type": "code",
   "execution_count": 2,
   "metadata": {
    "ExecuteTime": {
     "end_time": "2020-04-13T02:09:51.147485Z",
     "start_time": "2020-04-13T02:09:43.894793Z"
    }
   },
   "outputs": [],
   "source": [
    "# Initiate: import modules\n",
    "import pandas as pd\n",
    "import numpy as np\n",
    "import matplotlib.pyplot as plt\n",
    "import seaborn as sns\n",
    "%matplotlib inline\n",
    "import random\n",
    "import sys\n",
    "import logging\n",
    "logging.disable(sys.maxsize)\n",
    "\n",
    "pd.set_option('display.max_columns', None)"
   ]
  },
  {
   "cell_type": "code",
   "execution_count": null,
   "metadata": {},
   "outputs": [],
   "source": []
  },
  {
   "cell_type": "markdown",
   "metadata": {
    "ExecuteTime": {
     "end_time": "2020-04-12T23:41:38.843109Z",
     "start_time": "2020-04-12T23:41:38.840420Z"
    }
   },
   "source": [
    "### Dataset "
   ]
  },
  {
   "cell_type": "code",
   "execution_count": 3,
   "metadata": {
    "ExecuteTime": {
     "end_time": "2020-04-13T02:09:51.166611Z",
     "start_time": "2020-04-13T02:09:51.163350Z"
    }
   },
   "outputs": [],
   "source": [
    "# Assume x are samples from a normal distribution with mean 10, std 10\n",
    "# f(x) = x^2 + e^(x) + ln((x+5) / x) + random_error"
   ]
  },
  {
   "cell_type": "code",
   "execution_count": 33,
   "metadata": {
    "ExecuteTime": {
     "end_time": "2020-04-13T03:29:22.880127Z",
     "start_time": "2020-04-13T03:29:22.874881Z"
    }
   },
   "outputs": [],
   "source": [
    "random.seed(66)\n",
    "\n",
    "N = 1000\n",
    "mu = 10\n",
    "sigma = 10\n",
    "\n",
    "x = np.random.normal(mu, sigma, size=N)\n",
    "y = 3*x*x*x + 2*x*x  + np.random.normal(0,1,size=N)"
   ]
  },
  {
   "cell_type": "code",
   "execution_count": 34,
   "metadata": {
    "ExecuteTime": {
     "end_time": "2020-04-13T03:29:23.213415Z",
     "start_time": "2020-04-13T03:29:23.069427Z"
    }
   },
   "outputs": [
    {
     "data": {
      "text/plain": [
       "Text(0,0.5,'y')"
      ]
     },
     "execution_count": 34,
     "metadata": {},
     "output_type": "execute_result"
    },
    {
     "data": {
      "image/png": "[encoded data removed]",
      "text/plain": [
       "<matplotlib.figure.Figure at 0x1164e7c18>"
      ]
     },
     "metadata": {},
     "output_type": "display_data"
    }
   ],
   "source": [
    "plt.scatter(x, y)\n",
    "plt.xlabel(\"x\")\n",
    "plt.ylabel(\"y\")"
   ]
  },
  {
   "cell_type": "code",
   "execution_count": null,
   "metadata": {},
   "outputs": [],
   "source": []
  },
  {
   "cell_type": "markdown",
   "metadata": {},
   "source": [
    "### Variance of sample mean x"
   ]
  },
  {
   "cell_type": "code",
   "execution_count": 35,
   "metadata": {
    "ExecuteTime": {
     "end_time": "2020-04-13T03:29:30.906748Z",
     "start_time": "2020-04-13T03:29:30.018244Z"
    }
   },
   "outputs": [],
   "source": [
    "random.seed(88)\n",
    "\n",
    "# plot the empirical distribution of x_bar\n",
    "sim = 10000\n",
    "N = 1000\n",
    "mu = 10\n",
    "sigma = 10\n",
    "x_bars = []\n",
    "\n",
    "for i in range(sim):\n",
    "    x = np.random.normal(mu, sigma, size=N)\n",
    "    y = 3*x*x*x + 2*x*x  + np.random.normal(0,1,size=N)\n",
    "    x_bars.append(np.mean(y))\n"
   ]
  },
  {
   "cell_type": "code",
   "execution_count": 36,
   "metadata": {
    "ExecuteTime": {
     "end_time": "2020-04-13T03:29:31.234145Z",
     "start_time": "2020-04-13T03:29:31.027580Z"
    }
   },
   "outputs": [
    {
     "name": "stdout",
     "output_type": "stream",
     "text": [
      "12413.824527677269\n",
      "744.9949220954676\n"
     ]
    },
    {
     "name": "stderr",
     "output_type": "stream",
     "text": [
      "/Library/Frameworks/Python.framework/Versions/3.6/lib/python3.6/site-packages/scipy/stats/stats.py:1713: FutureWarning: Using a non-tuple sequence for multidimensional indexing is deprecated; use `arr[tuple(seq)]` instead of `arr[seq]`. In the future this will be interpreted as an array index, `arr[np.array(seq)]`, which will result either in an error or a different result.\n",
      "  return np.add.reduce(sorted[indexer] * weights, axis=axis) / sumval\n"
     ]
    },
    {
     "data": {
      "image/png": "[encoded data removed]",
      "text/plain": [
       "<matplotlib.figure.Figure at 0x116316f98>"
      ]
     },
     "metadata": {},
     "output_type": "display_data"
    }
   ],
   "source": [
    "sns.distplot(np.array(x_bars))\n",
    "print(np.mean(x_bars))\n",
    "print(np.std(x_bars))"
   ]
  },
  {
   "cell_type": "code",
   "execution_count": null,
   "metadata": {},
   "outputs": [],
   "source": []
  },
  {
   "cell_type": "code",
   "execution_count": null,
   "metadata": {},
   "outputs": [],
   "source": []
  },
  {
   "cell_type": "markdown",
   "metadata": {},
   "source": [
    "### Variance of the antithetic sampling"
   ]
  },
  {
   "cell_type": "code",
   "execution_count": 37,
   "metadata": {
    "ExecuteTime": {
     "end_time": "2020-04-13T03:29:41.037763Z",
     "start_time": "2020-04-13T03:29:40.158647Z"
    }
   },
   "outputs": [],
   "source": [
    "random.seed(88)\n",
    "\n",
    "# plot the empirical distribution of x_bar\n",
    "sim = 10000\n",
    "N = 500\n",
    "mu = 10\n",
    "sigma = 10\n",
    "x_bars_antithetic = []\n",
    "\n",
    "for i in range(sim):\n",
    "    x = np.random.normal(mu, sigma, size=N)\n",
    "    x_tilt = 2*mu - x\n",
    "    y = 3*x*x*x + 2*x*x + np.random.normal(0,1,size=N)\n",
    "    y_tilt = 3*x_tilt*x_tilt*x_tilt + 2*x_tilt*x_tilt + np.random.normal(0,1,size=N)\n",
    "    x_bars_antithetic.append((np.sum(y) + np.sum(y_tilt))/(2*N))"
   ]
  },
  {
   "cell_type": "code",
   "execution_count": 38,
   "metadata": {
    "ExecuteTime": {
     "end_time": "2020-04-13T03:29:41.370063Z",
     "start_time": "2020-04-13T03:29:41.134280Z"
    }
   },
   "outputs": [
    {
     "name": "stdout",
     "output_type": "stream",
     "text": [
      "12398.139798573857\n",
      "577.7878640500811\n"
     ]
    },
    {
     "name": "stderr",
     "output_type": "stream",
     "text": [
      "/Library/Frameworks/Python.framework/Versions/3.6/lib/python3.6/site-packages/scipy/stats/stats.py:1713: FutureWarning: Using a non-tuple sequence for multidimensional indexing is deprecated; use `arr[tuple(seq)]` instead of `arr[seq]`. In the future this will be interpreted as an array index, `arr[np.array(seq)]`, which will result either in an error or a different result.\n",
      "  return np.add.reduce(sorted[indexer] * weights, axis=axis) / sumval\n"
     ]
    },
    {
     "data": {
      "image/png": "[encoded data removed]",
      "text/plain": [
       "<matplotlib.figure.Figure at 0x1164952b0>"
      ]
     },
     "metadata": {},
     "output_type": "display_data"
    }
   ],
   "source": [
    "sns.distplot(np.array(x_bars_antithetic))\n",
    "print(np.mean(x_bars_antithetic))\n",
    "print(np.std(x_bars_antithetic))"
   ]
  },
  {
   "cell_type": "code",
   "execution_count": null,
   "metadata": {},
   "outputs": [],
   "source": []
  },
  {
   "cell_type": "code",
   "execution_count": null,
   "metadata": {},
   "outputs": [],
   "source": []
  },
  {
   "cell_type": "markdown",
   "metadata": {},
   "source": [
    "### Compare two variance estimations"
   ]
  },
  {
   "cell_type": "code",
   "execution_count": 39,
   "metadata": {
    "ExecuteTime": {
     "end_time": "2020-04-13T03:29:47.207937Z",
     "start_time": "2020-04-13T03:29:46.857661Z"
    }
   },
   "outputs": [
    {
     "name": "stderr",
     "output_type": "stream",
     "text": [
      "/Library/Frameworks/Python.framework/Versions/3.6/lib/python3.6/site-packages/scipy/stats/stats.py:1713: FutureWarning: Using a non-tuple sequence for multidimensional indexing is deprecated; use `arr[tuple(seq)]` instead of `arr[seq]`. In the future this will be interpreted as an array index, `arr[np.array(seq)]`, which will result either in an error or a different result.\n",
      "  return np.add.reduce(sorted[indexer] * weights, axis=axis) / sumval\n"
     ]
    },
    {
     "data": {
      "text/plain": [
       "<matplotlib.legend.Legend at 0x10ef0cf28>"
      ]
     },
     "execution_count": 39,
     "metadata": {},
     "output_type": "execute_result"
    },
    {
     "data": {
      "image/png": "[encoded data removed]",
      "text/plain": [
       "<matplotlib.figure.Figure at 0x116763b00>"
      ]
     },
     "metadata": {},
     "output_type": "display_data"
    }
   ],
   "source": [
    "sns.distplot(np.array(x_bars))\n",
    "sns.distplot(np.array(x_bars_antithetic))\n",
    "plt.legend(labels=['Random Sampling Mean','Antithetic Sampling Mean'])"
   ]
  },
  {
   "cell_type": "code",
   "execution_count": 40,
   "metadata": {
    "ExecuteTime": {
     "end_time": "2020-04-13T03:29:51.289299Z",
     "start_time": "2020-04-13T03:29:51.286353Z"
    }
   },
   "outputs": [],
   "source": [
    "### Apparently, Antithetic sampling achieve smaller variances"
   ]
  },
  {
   "cell_type": "code",
   "execution_count": null,
   "metadata": {},
   "outputs": [],
   "source": []
  },
  {
   "cell_type": "code",
   "execution_count": null,
   "metadata": {},
   "outputs": [],
   "source": []
  },
  {
   "cell_type": "markdown",
   "metadata": {},
   "source": [
    "### Pho estimation"
   ]
  },
  {
   "cell_type": "code",
   "execution_count": 45,
   "metadata": {
    "ExecuteTime": {
     "end_time": "2020-04-13T03:30:18.124662Z",
     "start_time": "2020-04-13T03:30:18.119724Z"
    }
   },
   "outputs": [],
   "source": [
    "mu = 10\n",
    "sigma = 10\n",
    "N = 1000\n",
    "x = np.random.normal(mu, sigma, size=N)\n",
    "x_tilt = 2*mu - x\n",
    "y = 3*x*x*x + 2*x*x + np.random.normal(0,1,size=N)\n",
    "y_tilt = 3*x_tilt*x_tilt*x_tilt + 2*x_tilt*x_tilt  + np.random.normal(0,1,size=N)"
   ]
  },
  {
   "cell_type": "code",
   "execution_count": 46,
   "metadata": {
    "ExecuteTime": {
     "end_time": "2020-04-13T03:30:18.315936Z",
     "start_time": "2020-04-13T03:30:18.310560Z"
    }
   },
   "outputs": [
    {
     "data": {
      "text/plain": [
       "0.5944415170907751"
      ]
     },
     "execution_count": 46,
     "metadata": {},
     "output_type": "execute_result"
    }
   ],
   "source": [
    "1 + np.corrcoef(y, y_tilt)[0][1]"
   ]
  },
  {
   "cell_type": "code",
   "execution_count": 47,
   "metadata": {
    "ExecuteTime": {
     "end_time": "2020-04-13T03:30:18.655023Z",
     "start_time": "2020-04-13T03:30:18.649915Z"
    }
   },
   "outputs": [
    {
     "data": {
      "text/plain": [
       "0.5998450520246835"
      ]
     },
     "execution_count": 47,
     "metadata": {},
     "output_type": "execute_result"
    }
   ],
   "source": [
    "# from the simulation, we reduce the variance by 38%\n",
    "(577*577) / (745*745)"
   ]
  },
  {
   "cell_type": "code",
   "execution_count": null,
   "metadata": {},
   "outputs": [],
   "source": []
  },
  {
   "cell_type": "code",
   "execution_count": null,
   "metadata": {},
   "outputs": [],
   "source": []
  },
  {
   "cell_type": "code",
   "execution_count": 63,
   "metadata": {
    "ExecuteTime": {
     "end_time": "2020-04-13T03:45:43.195839Z",
     "start_time": "2020-04-13T03:45:43.070911Z"
    }
   },
   "outputs": [
    {
     "data": {
      "text/plain": [
       "<matplotlib.collections.PathCollection at 0x1173867f0>"
      ]
     },
     "execution_count": 63,
     "metadata": {},
     "output_type": "execute_result"
    },
    {
     "data": {
      "image/png": "[encoded data removed]",
      "text/plain": [
       "<matplotlib.figure.Figure at 0x1171bab00>"
      ]
     },
     "metadata": {},
     "output_type": "display_data"
    }
   ],
   "source": [
    "# x_tilt is the symmetric point with respect the center 10\n",
    "plt.scatter(np.arange(100), x[:100])\n",
    "plt.scatter(np.arange(100), x_tilt[:100])"
   ]
  },
  {
   "cell_type": "code",
   "execution_count": null,
   "metadata": {},
   "outputs": [],
   "source": []
  }
 ],
 "metadata": {
  "kernelspec": {
   "display_name": "Python 3",
   "language": "python",
   "name": "python3"
  },
  "language_info": {
   "codemirror_mode": {
    "name": "ipython",
    "version": 3
   },
   "file_extension": ".py",
   "mimetype": "text/x-python",
   "name": "python",
   "nbconvert_exporter": "python",
   "pygments_lexer": "ipython3",
   "version": "3.6.6"
  },
  "toc": {
   "base_numbering": 1,
   "nav_menu": {},
   "number_sections": true,
   "sideBar": true,
   "skip_h1_title": false,
   "title_cell": "Table of Contents",
   "title_sidebar": "Contents",
   "toc_cell": false,
   "toc_position": {},
   "toc_section_display": true,
   "toc_window_display": false
  },
  "varInspector": {
   "cols": {
    "lenName": 16,
    "lenType": 16,
    "lenVar": 40
   },
   "kernels_config": {
    "python": {
     "delete_cmd_postfix": "",
     "delete_cmd_prefix": "del ",
     "library": "var_list.py",
     "varRefreshCmd": "print(var_dic_list())"
    },
    "r": {
     "delete_cmd_postfix": ") ",
     "delete_cmd_prefix": "rm(",
     "library": "var_list.r",
     "varRefreshCmd": "cat(var_dic_list()) "
    }
   },
   "types_to_exclude": [
    "module",
    "function",
    "builtin_function_or_method",
    "instance",
    "_Feature"
   ],
   "window_display": false
  }
 },
 "nbformat": 4,
 "nbformat_minor": 2
}
