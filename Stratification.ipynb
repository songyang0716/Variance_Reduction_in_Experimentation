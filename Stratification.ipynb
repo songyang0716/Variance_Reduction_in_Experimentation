{
 "cells": [
  {
   "cell_type": "code",
   "execution_count": 1,
   "metadata": {
    "ExecuteTime": {
     "end_time": "2020-04-15T22:27:55.010534Z",
     "start_time": "2020-04-15T22:27:50.804083Z"
    }
   },
   "outputs": [],
   "source": [
    "# initiate: import modules\n",
    "import pandas as pd\n",
    "import numpy as np\n",
    "import matplotlib.pyplot as plt\n",
    "import seaborn as sns\n",
    "%matplotlib inline\n",
    "import random\n",
    "import sys\n",
    "import logging\n",
    "logging.disable(sys.maxsize)\n",
    "\n",
    "pd.set_option('display.max_columns', None)"
   ]
  },
  {
   "cell_type": "code",
   "execution_count": null,
   "metadata": {},
   "outputs": [],
   "source": []
  },
  {
   "cell_type": "markdown",
   "metadata": {
    "ExecuteTime": {
     "end_time": "2020-04-15T22:28:00.679668Z",
     "start_time": "2020-04-15T22:28:00.676953Z"
    }
   },
   "source": [
    "### Dataset"
   ]
  },
  {
   "cell_type": "code",
   "execution_count": 3,
   "metadata": {
    "ExecuteTime": {
     "end_time": "2020-04-15T22:31:02.172171Z",
     "start_time": "2020-04-15T22:31:02.166678Z"
    }
   },
   "outputs": [],
   "source": [
    "### Rainfall example from https://statweb.stanford.edu/~owen/mc/\n",
    "### Number of rainfalls events in the coming month is S ~ Poi(lambda), lambda = 2.9\n",
    "### The depth of rainfall in the storm i is Di ~ Weib(k, sigma) with k = 0.8 and sigma = 3\n",
    "### X = sum Di over all rainfalls\n",
    "### f(X) = I (X < 5)\n",
    "### Find the mean distribution of E(f(x))"
   ]
  },
  {
   "cell_type": "code",
   "execution_count": 27,
   "metadata": {
    "ExecuteTime": {
     "end_time": "2020-04-16T02:20:39.904887Z",
     "start_time": "2020-04-16T02:20:39.899580Z"
    }
   },
   "outputs": [],
   "source": [
    "from scipy.stats import weibull_min"
   ]
  },
  {
   "cell_type": "code",
   "execution_count": 41,
   "metadata": {
    "ExecuteTime": {
     "end_time": "2020-04-16T02:43:02.773651Z",
     "start_time": "2020-04-16T02:43:02.690502Z"
    }
   },
   "outputs": [],
   "source": [
    "lam = 2.9\n",
    "N = 1000\n",
    "# shape\n",
    "k = 0.8\n",
    "# scale\n",
    "sigma = 3\n",
    "\n",
    "num_of_rainfalls = np.random.poisson(lam=lam, size=N)\n",
    "rainfalls_depth = []\n",
    "\n",
    "for rainfall in num_of_rainfalls:\n",
    "    weibull_samples =  weibull_min.rvs(k, loc=0, scale=sigma, size=rainfall)\n",
    "    rainfalls_depth.append(np.sum(weibull_samples))\n",
    "    "
   ]
  },
  {
   "cell_type": "code",
   "execution_count": 43,
   "metadata": {
    "ExecuteTime": {
     "end_time": "2020-04-16T02:43:06.486482Z",
     "start_time": "2020-04-16T02:43:06.341461Z"
    }
   },
   "outputs": [
    {
     "data": {
      "text/plain": [
       "Text(0,0.5,'Total rainfall(cm)')"
      ]
     },
     "execution_count": 43,
     "metadata": {},
     "output_type": "execute_result"
    },
    {
     "data": {
      "image/png": "[encoded data removed]",
      "text/plain": [
       "<matplotlib.figure.Figure at 0x1123ba4e0>"
      ]
     },
     "metadata": {},
     "output_type": "display_data"
    }
   ],
   "source": [
    "plt.scatter(num_of_rainfalls+np.random.normal(0,0.07,size=N),\n",
    "            rainfalls_depth)\n",
    "plt.hlines(y=5, \n",
    "           xmin=0,\n",
    "           xmax=8)\n",
    "plt.xlabel(\"Number of storms(jittered)\")\n",
    "plt.ylabel(\"Total rainfall(cm)\")"
   ]
  },
  {
   "cell_type": "code",
   "execution_count": null,
   "metadata": {},
   "outputs": [],
   "source": []
  },
  {
   "cell_type": "markdown",
   "metadata": {},
   "source": [
    "### Variance of ordinary sample mean x"
   ]
  },
  {
   "cell_type": "code",
   "execution_count": 46,
   "metadata": {
    "ExecuteTime": {
     "end_time": "2020-04-16T06:12:40.869382Z",
     "start_time": "2020-04-16T06:01:53.739531Z"
    }
   },
   "outputs": [],
   "source": [
    "lam = 2.9\n",
    "N = 1000\n",
    "# shape\n",
    "k = 0.8\n",
    "# scale\n",
    "sigma = 3\n",
    "sim = 10000\n",
    "x_bars = []\n",
    "\n",
    "for i in range(sim):\n",
    "    num_of_rainfalls = np.random.poisson(lam=lam, size=N)\n",
    "    rainfalls_depth = []\n",
    "\n",
    "    for rainfall in num_of_rainfalls:\n",
    "        weibull_samples =  weibull_min.rvs(k, loc=0, scale=sigma, size=rainfall)\n",
    "        rainfalls_depth.append(np.sum(weibull_samples))\n",
    "    x_bars.append(np.mean(np.array(rainfalls_depth) < 5))"
   ]
  },
  {
   "cell_type": "code",
   "execution_count": 47,
   "metadata": {
    "ExecuteTime": {
     "end_time": "2020-04-16T06:12:41.119975Z",
     "start_time": "2020-04-16T06:12:40.902418Z"
    }
   },
   "outputs": [
    {
     "name": "stdout",
     "output_type": "stream",
     "text": [
      "0.375841\n",
      "0.01528890182452619\n"
     ]
    },
    {
     "name": "stderr",
     "output_type": "stream",
     "text": [
      "/Library/Frameworks/Python.framework/Versions/3.6/lib/python3.6/site-packages/scipy/stats/stats.py:1713: FutureWarning: Using a non-tuple sequence for multidimensional indexing is deprecated; use `arr[tuple(seq)]` instead of `arr[seq]`. In the future this will be interpreted as an array index, `arr[np.array(seq)]`, which will result either in an error or a different result.\n",
      "  return np.add.reduce(sorted[indexer] * weights, axis=axis) / sumval\n"
     ]
    },
    {
     "data": {
      "image/png": "[encoded data removed]",
      "text/plain": [
       "<matplotlib.figure.Figure at 0x119109e80>"
      ]
     },
     "metadata": {},
     "output_type": "display_data"
    }
   ],
   "source": [
    "sns.distplot(np.array(x_bars))\n",
    "print(np.mean(x_bars))\n",
    "print(np.std(x_bars))"
   ]
  },
  {
   "cell_type": "code",
   "execution_count": 49,
   "metadata": {
    "ExecuteTime": {
     "end_time": "2020-04-18T04:09:06.119606Z",
     "start_time": "2020-04-18T04:09:06.101520Z"
    }
   },
   "outputs": [
    {
     "data": {
      "text/plain": [
       "0.015316152999986649"
      ]
     },
     "execution_count": 49,
     "metadata": {},
     "output_type": "execute_result"
    }
   ],
   "source": [
    "np.sqrt(0.375841*(1-0.375841)/1000)"
   ]
  },
  {
   "cell_type": "code",
   "execution_count": null,
   "metadata": {},
   "outputs": [],
   "source": []
  }
 ],
 "metadata": {
  "kernelspec": {
   "display_name": "Python 3",
   "language": "python",
   "name": "python3"
  },
  "language_info": {
   "codemirror_mode": {
    "name": "ipython",
    "version": 3
   },
   "file_extension": ".py",
   "mimetype": "text/x-python",
   "name": "python",
   "nbconvert_exporter": "python",
   "pygments_lexer": "ipython3",
   "version": "3.6.6"
  },
  "toc": {
   "base_numbering": 1,
   "nav_menu": {},
   "number_sections": true,
   "sideBar": true,
   "skip_h1_title": false,
   "title_cell": "Table of Contents",
   "title_sidebar": "Contents",
   "toc_cell": false,
   "toc_position": {},
   "toc_section_display": true,
   "toc_window_display": false
  },
  "varInspector": {
   "cols": {
    "lenName": 16,
    "lenType": 16,
    "lenVar": 40
   },
   "kernels_config": {
    "python": {
     "delete_cmd_postfix": "",
     "delete_cmd_prefix": "del ",
     "library": "var_list.py",
     "varRefreshCmd": "print(var_dic_list())"
    },
    "r": {
     "delete_cmd_postfix": ") ",
     "delete_cmd_prefix": "rm(",
     "library": "var_list.r",
     "varRefreshCmd": "cat(var_dic_list()) "
    }
   },
   "types_to_exclude": [
    "module",
    "function",
    "builtin_function_or_method",
    "instance",
    "_Feature"
   ],
   "window_display": false
  }
 },
 "nbformat": 4,
 "nbformat_minor": 2
}
